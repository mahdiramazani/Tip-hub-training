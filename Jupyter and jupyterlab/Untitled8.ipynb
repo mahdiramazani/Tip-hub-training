{
 "cells": [
  {
   "cell_type": "code",
   "execution_count": 15,
   "id": "ce80f936",
   "metadata": {},
   "outputs": [],
   "source": [
    "def my_function(name):\n",
    "    \n",
    "    return f\"Hi {name}\""
   ]
  },
  {
   "cell_type": "code",
   "execution_count": 16,
   "id": "21736ea5",
   "metadata": {},
   "outputs": [],
   "source": [
    "name=\"Mahdi\""
   ]
  },
  {
   "cell_type": "code",
   "execution_count": 17,
   "id": "278a3817",
   "metadata": {},
   "outputs": [],
   "source": [
    "test_function=my_function(name)"
   ]
  },
  {
   "cell_type": "code",
   "execution_count": 18,
   "id": "1228ed33",
   "metadata": {},
   "outputs": [
    {
     "name": "stdout",
     "output_type": "stream",
     "text": [
      "Hi Mahdi\n"
     ]
    }
   ],
   "source": [
    "print(test_function)"
   ]
  }
 ],
 "metadata": {
  "kernelspec": {
   "display_name": "Python 3 (ipykernel)",
   "language": "python",
   "name": "python3"
  },
  "language_info": {
   "codemirror_mode": {
    "name": "ipython",
    "version": 3
   },
   "file_extension": ".py",
   "mimetype": "text/x-python",
   "name": "python",
   "nbconvert_exporter": "python",
   "pygments_lexer": "ipython3",
   "version": "3.9.6"
  }
 },
 "nbformat": 4,
 "nbformat_minor": 5
}
