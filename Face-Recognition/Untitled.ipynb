{
 "cells": [
  {
   "cell_type": "code",
   "execution_count": 27,
   "id": "65802271",
   "metadata": {},
   "outputs": [],
   "source": [
    "import cv2\n",
    "import numpy as np"
   ]
  },
  {
   "cell_type": "code",
   "execution_count": 50,
   "id": "adc91380",
   "metadata": {},
   "outputs": [],
   "source": [
    "image=cv2.imread(\"./images/pic4.JPEG\")"
   ]
  },
  {
   "cell_type": "code",
   "execution_count": 51,
   "id": "dbbe2cdf",
   "metadata": {},
   "outputs": [],
   "source": [
    "cv2.imshow(\"image\",image)\n",
    "cv2.waitKey(0)\n",
    "cv2.destroyAllWindows()"
   ]
  },
  {
   "cell_type": "code",
   "execution_count": 52,
   "id": "c38aecbf",
   "metadata": {},
   "outputs": [],
   "source": [
    "face_cascade=cv2.CascadeClassifier(\"./haar-algoritm/haarcascade_frontalface_default.xml\")"
   ]
  },
  {
   "cell_type": "code",
   "execution_count": 53,
   "id": "7f759419",
   "metadata": {},
   "outputs": [],
   "source": [
    "face,number_of_detaection=face_cascade.detectMultiScale2(image,minNeighbors=10)"
   ]
  },
  {
   "cell_type": "code",
   "execution_count": 54,
   "id": "afa564af",
   "metadata": {},
   "outputs": [
    {
     "name": "stdout",
     "output_type": "stream",
     "text": [
      "[[103  91  66  66]\n",
      " [276  88  65  65]\n",
      " [508 126  67  67]\n",
      " [385  85  67  67]]\n"
     ]
    }
   ],
   "source": [
    "print(face)"
   ]
  },
  {
   "cell_type": "code",
   "execution_count": 55,
   "id": "c0aa6bc8",
   "metadata": {},
   "outputs": [
    {
     "name": "stdout",
     "output_type": "stream",
     "text": [
      "[50 47 25 26]\n"
     ]
    }
   ],
   "source": [
    "print(number_of_detaection)"
   ]
  },
  {
   "cell_type": "code",
   "execution_count": 48,
   "id": "3ee46759",
   "metadata": {},
   "outputs": [],
   "source": [
    "for x,y,h,w in face:\n",
    "    \n",
    "    cv2.rectangle(image,(x,y),(x+h,y+w),(80,142,50),2)\n",
    "    "
   ]
  },
  {
   "cell_type": "code",
   "execution_count": 49,
   "id": "faf405f9",
   "metadata": {},
   "outputs": [],
   "source": [
    "cv2.imshow(\"image\",image)\n",
    "cv2.waitKey(0)\n",
    "cv2.destroyAllWindows()"
   ]
  },
  {
   "cell_type": "code",
   "execution_count": null,
   "id": "fb9333b5",
   "metadata": {},
   "outputs": [],
   "source": []
  }
 ],
 "metadata": {
  "kernelspec": {
   "display_name": "Python 3 (ipykernel)",
   "language": "python",
   "name": "python3"
  },
  "language_info": {
   "codemirror_mode": {
    "name": "ipython",
    "version": 3
   },
   "file_extension": ".py",
   "mimetype": "text/x-python",
   "name": "python",
   "nbconvert_exporter": "python",
   "pygments_lexer": "ipython3",
   "version": "3.11.2"
  }
 },
 "nbformat": 4,
 "nbformat_minor": 5
}
